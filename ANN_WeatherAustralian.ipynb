{
  "nbformat": 4,
  "nbformat_minor": 0,
  "metadata": {
    "kernelspec": {
      "display_name": "Python 3",
      "language": "python",
      "name": "python3"
    },
    "language_info": {
      "codemirror_mode": {
        "name": "ipython",
        "version": 3
      },
      "file_extension": ".py",
      "mimetype": "text/x-python",
      "name": "python",
      "nbconvert_exporter": "python",
      "pygments_lexer": "ipython3",
      "version": "3.8.3"
    },
    "colab": {
      "provenance": []
    }
  },
  "cells": [
    {
      "cell_type": "code",
      "metadata": {
        "id": "-3thvS8tOd-C"
      },
      "source": [
        "import numpy as np\n",
        "import pandas as pd"
      ],
      "execution_count": null,
      "outputs": []
    },
    {
      "cell_type": "markdown",
      "metadata": {
        "id": "VljgbkqkOd-F"
      },
      "source": [
        "# Exploration Data Analysis"
      ]
    },
    {
      "cell_type": "markdown",
      "metadata": {
        "id": "Tmn45GkOEbJf"
      },
      "source": [
        "Tahap ini akan dilakukan eksplorasi data dengan tujuan untuk mengetahui informasi data data yang dimiliki. Tahapan ini menjadi sangat penting karena berdasarkan informasi yang kita peroleh dapat menjadi pondasi untuk melakukan data preprocessing dan menentukan model untuk pengelompokkan data.\n"
      ]
    },
    {
      "cell_type": "code",
      "metadata": {
        "colab": {
          "base_uri": "https://localhost:8080/",
          "height": 309
        },
        "id": "WBNoU7cJOd-H",
        "outputId": "51b0dcab-5719-4a08-b3a9-d0a5f8254c79"
      },
      "source": [
        "df = pd.read_csv(\"weatherAUS.csv\")\n",
        "df.head()"
      ],
      "execution_count": null,
      "outputs": [
        {
          "output_type": "execute_result",
          "data": {
            "text/html": [
              "<div>\n",
              "<style scoped>\n",
              "    .dataframe tbody tr th:only-of-type {\n",
              "        vertical-align: middle;\n",
              "    }\n",
              "\n",
              "    .dataframe tbody tr th {\n",
              "        vertical-align: top;\n",
              "    }\n",
              "\n",
              "    .dataframe thead th {\n",
              "        text-align: right;\n",
              "    }\n",
              "</style>\n",
              "<table border=\"1\" class=\"dataframe\">\n",
              "  <thead>\n",
              "    <tr style=\"text-align: right;\">\n",
              "      <th></th>\n",
              "      <th>Date</th>\n",
              "      <th>Location</th>\n",
              "      <th>MinTemp</th>\n",
              "      <th>MaxTemp</th>\n",
              "      <th>Rainfall</th>\n",
              "      <th>Evaporation</th>\n",
              "      <th>Sunshine</th>\n",
              "      <th>WindGustDir</th>\n",
              "      <th>WindGustSpeed</th>\n",
              "      <th>WindDir9am</th>\n",
              "      <th>WindDir3pm</th>\n",
              "      <th>WindSpeed9am</th>\n",
              "      <th>WindSpeed3pm</th>\n",
              "      <th>Humidity9am</th>\n",
              "      <th>Humidity3pm</th>\n",
              "      <th>Pressure9am</th>\n",
              "      <th>Pressure3pm</th>\n",
              "      <th>Cloud9am</th>\n",
              "      <th>Cloud3pm</th>\n",
              "      <th>Temp9am</th>\n",
              "      <th>Temp3pm</th>\n",
              "      <th>RainToday</th>\n",
              "      <th>RainTomorrow</th>\n",
              "    </tr>\n",
              "  </thead>\n",
              "  <tbody>\n",
              "    <tr>\n",
              "      <th>0</th>\n",
              "      <td>2008-12-01</td>\n",
              "      <td>Albury</td>\n",
              "      <td>13.4</td>\n",
              "      <td>22.9</td>\n",
              "      <td>0.6</td>\n",
              "      <td>NaN</td>\n",
              "      <td>NaN</td>\n",
              "      <td>W</td>\n",
              "      <td>44.0</td>\n",
              "      <td>W</td>\n",
              "      <td>WNW</td>\n",
              "      <td>20.0</td>\n",
              "      <td>24.0</td>\n",
              "      <td>71.0</td>\n",
              "      <td>22.0</td>\n",
              "      <td>1007.7</td>\n",
              "      <td>1007.1</td>\n",
              "      <td>8.0</td>\n",
              "      <td>NaN</td>\n",
              "      <td>16.9</td>\n",
              "      <td>21.8</td>\n",
              "      <td>No</td>\n",
              "      <td>No</td>\n",
              "    </tr>\n",
              "    <tr>\n",
              "      <th>1</th>\n",
              "      <td>2008-12-02</td>\n",
              "      <td>Albury</td>\n",
              "      <td>7.4</td>\n",
              "      <td>25.1</td>\n",
              "      <td>0.0</td>\n",
              "      <td>NaN</td>\n",
              "      <td>NaN</td>\n",
              "      <td>WNW</td>\n",
              "      <td>44.0</td>\n",
              "      <td>NNW</td>\n",
              "      <td>WSW</td>\n",
              "      <td>4.0</td>\n",
              "      <td>22.0</td>\n",
              "      <td>44.0</td>\n",
              "      <td>25.0</td>\n",
              "      <td>1010.6</td>\n",
              "      <td>1007.8</td>\n",
              "      <td>NaN</td>\n",
              "      <td>NaN</td>\n",
              "      <td>17.2</td>\n",
              "      <td>24.3</td>\n",
              "      <td>No</td>\n",
              "      <td>No</td>\n",
              "    </tr>\n",
              "    <tr>\n",
              "      <th>2</th>\n",
              "      <td>2008-12-03</td>\n",
              "      <td>Albury</td>\n",
              "      <td>12.9</td>\n",
              "      <td>25.7</td>\n",
              "      <td>0.0</td>\n",
              "      <td>NaN</td>\n",
              "      <td>NaN</td>\n",
              "      <td>WSW</td>\n",
              "      <td>46.0</td>\n",
              "      <td>W</td>\n",
              "      <td>WSW</td>\n",
              "      <td>19.0</td>\n",
              "      <td>26.0</td>\n",
              "      <td>38.0</td>\n",
              "      <td>30.0</td>\n",
              "      <td>1007.6</td>\n",
              "      <td>1008.7</td>\n",
              "      <td>NaN</td>\n",
              "      <td>2.0</td>\n",
              "      <td>21.0</td>\n",
              "      <td>23.2</td>\n",
              "      <td>No</td>\n",
              "      <td>No</td>\n",
              "    </tr>\n",
              "    <tr>\n",
              "      <th>3</th>\n",
              "      <td>2008-12-04</td>\n",
              "      <td>Albury</td>\n",
              "      <td>9.2</td>\n",
              "      <td>28.0</td>\n",
              "      <td>0.0</td>\n",
              "      <td>NaN</td>\n",
              "      <td>NaN</td>\n",
              "      <td>NE</td>\n",
              "      <td>24.0</td>\n",
              "      <td>SE</td>\n",
              "      <td>E</td>\n",
              "      <td>11.0</td>\n",
              "      <td>9.0</td>\n",
              "      <td>45.0</td>\n",
              "      <td>16.0</td>\n",
              "      <td>1017.6</td>\n",
              "      <td>1012.8</td>\n",
              "      <td>NaN</td>\n",
              "      <td>NaN</td>\n",
              "      <td>18.1</td>\n",
              "      <td>26.5</td>\n",
              "      <td>No</td>\n",
              "      <td>No</td>\n",
              "    </tr>\n",
              "    <tr>\n",
              "      <th>4</th>\n",
              "      <td>2008-12-05</td>\n",
              "      <td>Albury</td>\n",
              "      <td>17.5</td>\n",
              "      <td>32.3</td>\n",
              "      <td>1.0</td>\n",
              "      <td>NaN</td>\n",
              "      <td>NaN</td>\n",
              "      <td>W</td>\n",
              "      <td>41.0</td>\n",
              "      <td>ENE</td>\n",
              "      <td>NW</td>\n",
              "      <td>7.0</td>\n",
              "      <td>20.0</td>\n",
              "      <td>82.0</td>\n",
              "      <td>33.0</td>\n",
              "      <td>1010.8</td>\n",
              "      <td>1006.0</td>\n",
              "      <td>7.0</td>\n",
              "      <td>8.0</td>\n",
              "      <td>17.8</td>\n",
              "      <td>29.7</td>\n",
              "      <td>No</td>\n",
              "      <td>No</td>\n",
              "    </tr>\n",
              "  </tbody>\n",
              "</table>\n",
              "</div>"
            ],
            "text/plain": [
              "         Date Location  MinTemp  ...  Temp3pm  RainToday  RainTomorrow\n",
              "0  2008-12-01   Albury     13.4  ...     21.8         No            No\n",
              "1  2008-12-02   Albury      7.4  ...     24.3         No            No\n",
              "2  2008-12-03   Albury     12.9  ...     23.2         No            No\n",
              "3  2008-12-04   Albury      9.2  ...     26.5         No            No\n",
              "4  2008-12-05   Albury     17.5  ...     29.7         No            No\n",
              "\n",
              "[5 rows x 23 columns]"
            ]
          },
          "metadata": {
            "tags": []
          },
          "execution_count": 2
        }
      ]
    },
    {
      "cell_type": "markdown",
      "metadata": {
        "id": "4Q3gzUAyFaRi"
      },
      "source": [
        "Tahap ini bertujuan untuk membaca data yang akan diproses. Tahapan ini merupakan tahap awal untuk menuju proses berikutnya serta Tahap ini akan memperoleh isi data yang telah diinputkan. Tujuannya adalah untuk mengetahui bagaimana data yang akan digunakan.\n",
        "Dari data tersebut dapat dilihat nama fitur-fitur yang ada pada dataset tersebut. Terdapat kolom date pada fiturnya sehingga akan dilakukan proses pembagian menjadi subbagian periodik yaitu tahun, bulan, dan hari."
      ]
    },
    {
      "cell_type": "code",
      "metadata": {
        "colab": {
          "base_uri": "https://localhost:8080/",
          "height": 309
        },
        "id": "U84Z3JesOd-L",
        "outputId": "a633d7a8-da81-447c-bdcc-e1a18c262b15"
      },
      "source": [
        "df['Date']= pd.to_datetime(df[\"Date\"])\n",
        "df['year'] = df.Date.dt.year\n",
        "\n",
        "\n",
        "def encode(data, col, max_val):\n",
        "    data[col + '_sin'] = np.sin(2 * np.pi * data[col]/max_val)\n",
        "    data[col + '_cos'] = np.cos(2 * np.pi * data[col]/max_val)\n",
        "    return data\n",
        "\n",
        "df['month'] = df.Date.dt.month\n",
        "df = encode(df, 'month', 12)\n",
        "\n",
        "df['day'] = df.Date.dt.day\n",
        "df = encode(df, 'day', 31)\n",
        "\n",
        "df.head()"
      ],
      "execution_count": null,
      "outputs": [
        {
          "output_type": "execute_result",
          "data": {
            "text/html": [
              "<div>\n",
              "<style scoped>\n",
              "    .dataframe tbody tr th:only-of-type {\n",
              "        vertical-align: middle;\n",
              "    }\n",
              "\n",
              "    .dataframe tbody tr th {\n",
              "        vertical-align: top;\n",
              "    }\n",
              "\n",
              "    .dataframe thead th {\n",
              "        text-align: right;\n",
              "    }\n",
              "</style>\n",
              "<table border=\"1\" class=\"dataframe\">\n",
              "  <thead>\n",
              "    <tr style=\"text-align: right;\">\n",
              "      <th></th>\n",
              "      <th>Date</th>\n",
              "      <th>Location</th>\n",
              "      <th>MinTemp</th>\n",
              "      <th>MaxTemp</th>\n",
              "      <th>Rainfall</th>\n",
              "      <th>Evaporation</th>\n",
              "      <th>Sunshine</th>\n",
              "      <th>WindGustDir</th>\n",
              "      <th>WindGustSpeed</th>\n",
              "      <th>WindDir9am</th>\n",
              "      <th>WindDir3pm</th>\n",
              "      <th>WindSpeed9am</th>\n",
              "      <th>WindSpeed3pm</th>\n",
              "      <th>Humidity9am</th>\n",
              "      <th>Humidity3pm</th>\n",
              "      <th>Pressure9am</th>\n",
              "      <th>Pressure3pm</th>\n",
              "      <th>Cloud9am</th>\n",
              "      <th>Cloud3pm</th>\n",
              "      <th>Temp9am</th>\n",
              "      <th>Temp3pm</th>\n",
              "      <th>RainToday</th>\n",
              "      <th>RainTomorrow</th>\n",
              "      <th>year</th>\n",
              "      <th>month</th>\n",
              "      <th>month_sin</th>\n",
              "      <th>month_cos</th>\n",
              "      <th>day</th>\n",
              "      <th>day_sin</th>\n",
              "      <th>day_cos</th>\n",
              "    </tr>\n",
              "  </thead>\n",
              "  <tbody>\n",
              "    <tr>\n",
              "      <th>0</th>\n",
              "      <td>2008-12-01</td>\n",
              "      <td>Albury</td>\n",
              "      <td>13.4</td>\n",
              "      <td>22.9</td>\n",
              "      <td>0.6</td>\n",
              "      <td>NaN</td>\n",
              "      <td>NaN</td>\n",
              "      <td>W</td>\n",
              "      <td>44.0</td>\n",
              "      <td>W</td>\n",
              "      <td>WNW</td>\n",
              "      <td>20.0</td>\n",
              "      <td>24.0</td>\n",
              "      <td>71.0</td>\n",
              "      <td>22.0</td>\n",
              "      <td>1007.7</td>\n",
              "      <td>1007.1</td>\n",
              "      <td>8.0</td>\n",
              "      <td>NaN</td>\n",
              "      <td>16.9</td>\n",
              "      <td>21.8</td>\n",
              "      <td>No</td>\n",
              "      <td>No</td>\n",
              "      <td>2008</td>\n",
              "      <td>12</td>\n",
              "      <td>-2.449294e-16</td>\n",
              "      <td>1.0</td>\n",
              "      <td>1</td>\n",
              "      <td>0.201299</td>\n",
              "      <td>0.979530</td>\n",
              "    </tr>\n",
              "    <tr>\n",
              "      <th>1</th>\n",
              "      <td>2008-12-02</td>\n",
              "      <td>Albury</td>\n",
              "      <td>7.4</td>\n",
              "      <td>25.1</td>\n",
              "      <td>0.0</td>\n",
              "      <td>NaN</td>\n",
              "      <td>NaN</td>\n",
              "      <td>WNW</td>\n",
              "      <td>44.0</td>\n",
              "      <td>NNW</td>\n",
              "      <td>WSW</td>\n",
              "      <td>4.0</td>\n",
              "      <td>22.0</td>\n",
              "      <td>44.0</td>\n",
              "      <td>25.0</td>\n",
              "      <td>1010.6</td>\n",
              "      <td>1007.8</td>\n",
              "      <td>NaN</td>\n",
              "      <td>NaN</td>\n",
              "      <td>17.2</td>\n",
              "      <td>24.3</td>\n",
              "      <td>No</td>\n",
              "      <td>No</td>\n",
              "      <td>2008</td>\n",
              "      <td>12</td>\n",
              "      <td>-2.449294e-16</td>\n",
              "      <td>1.0</td>\n",
              "      <td>2</td>\n",
              "      <td>0.394356</td>\n",
              "      <td>0.918958</td>\n",
              "    </tr>\n",
              "    <tr>\n",
              "      <th>2</th>\n",
              "      <td>2008-12-03</td>\n",
              "      <td>Albury</td>\n",
              "      <td>12.9</td>\n",
              "      <td>25.7</td>\n",
              "      <td>0.0</td>\n",
              "      <td>NaN</td>\n",
              "      <td>NaN</td>\n",
              "      <td>WSW</td>\n",
              "      <td>46.0</td>\n",
              "      <td>W</td>\n",
              "      <td>WSW</td>\n",
              "      <td>19.0</td>\n",
              "      <td>26.0</td>\n",
              "      <td>38.0</td>\n",
              "      <td>30.0</td>\n",
              "      <td>1007.6</td>\n",
              "      <td>1008.7</td>\n",
              "      <td>NaN</td>\n",
              "      <td>2.0</td>\n",
              "      <td>21.0</td>\n",
              "      <td>23.2</td>\n",
              "      <td>No</td>\n",
              "      <td>No</td>\n",
              "      <td>2008</td>\n",
              "      <td>12</td>\n",
              "      <td>-2.449294e-16</td>\n",
              "      <td>1.0</td>\n",
              "      <td>3</td>\n",
              "      <td>0.571268</td>\n",
              "      <td>0.820763</td>\n",
              "    </tr>\n",
              "    <tr>\n",
              "      <th>3</th>\n",
              "      <td>2008-12-04</td>\n",
              "      <td>Albury</td>\n",
              "      <td>9.2</td>\n",
              "      <td>28.0</td>\n",
              "      <td>0.0</td>\n",
              "      <td>NaN</td>\n",
              "      <td>NaN</td>\n",
              "      <td>NE</td>\n",
              "      <td>24.0</td>\n",
              "      <td>SE</td>\n",
              "      <td>E</td>\n",
              "      <td>11.0</td>\n",
              "      <td>9.0</td>\n",
              "      <td>45.0</td>\n",
              "      <td>16.0</td>\n",
              "      <td>1017.6</td>\n",
              "      <td>1012.8</td>\n",
              "      <td>NaN</td>\n",
              "      <td>NaN</td>\n",
              "      <td>18.1</td>\n",
              "      <td>26.5</td>\n",
              "      <td>No</td>\n",
              "      <td>No</td>\n",
              "      <td>2008</td>\n",
              "      <td>12</td>\n",
              "      <td>-2.449294e-16</td>\n",
              "      <td>1.0</td>\n",
              "      <td>4</td>\n",
              "      <td>0.724793</td>\n",
              "      <td>0.688967</td>\n",
              "    </tr>\n",
              "    <tr>\n",
              "      <th>4</th>\n",
              "      <td>2008-12-05</td>\n",
              "      <td>Albury</td>\n",
              "      <td>17.5</td>\n",
              "      <td>32.3</td>\n",
              "      <td>1.0</td>\n",
              "      <td>NaN</td>\n",
              "      <td>NaN</td>\n",
              "      <td>W</td>\n",
              "      <td>41.0</td>\n",
              "      <td>ENE</td>\n",
              "      <td>NW</td>\n",
              "      <td>7.0</td>\n",
              "      <td>20.0</td>\n",
              "      <td>82.0</td>\n",
              "      <td>33.0</td>\n",
              "      <td>1010.8</td>\n",
              "      <td>1006.0</td>\n",
              "      <td>7.0</td>\n",
              "      <td>8.0</td>\n",
              "      <td>17.8</td>\n",
              "      <td>29.7</td>\n",
              "      <td>No</td>\n",
              "      <td>No</td>\n",
              "      <td>2008</td>\n",
              "      <td>12</td>\n",
              "      <td>-2.449294e-16</td>\n",
              "      <td>1.0</td>\n",
              "      <td>5</td>\n",
              "      <td>0.848644</td>\n",
              "      <td>0.528964</td>\n",
              "    </tr>\n",
              "  </tbody>\n",
              "</table>\n",
              "</div>"
            ],
            "text/plain": [
              "        Date Location  MinTemp  MaxTemp  ...  month_cos  day   day_sin   day_cos\n",
              "0 2008-12-01   Albury     13.4     22.9  ...        1.0    1  0.201299  0.979530\n",
              "1 2008-12-02   Albury      7.4     25.1  ...        1.0    2  0.394356  0.918958\n",
              "2 2008-12-03   Albury     12.9     25.7  ...        1.0    3  0.571268  0.820763\n",
              "3 2008-12-04   Albury      9.2     28.0  ...        1.0    4  0.724793  0.688967\n",
              "4 2008-12-05   Albury     17.5     32.3  ...        1.0    5  0.848644  0.528964\n",
              "\n",
              "[5 rows x 30 columns]"
            ]
          },
          "metadata": {
            "tags": []
          },
          "execution_count": 3
        }
      ]
    },
    {
      "cell_type": "markdown",
      "metadata": {
        "id": "toxauirXHVdn"
      },
      "source": [
        "Pada tahap ini dilakukan proses menyandikan tanggal dengan tepat, yaitu bulan dan hari dalam fitur. karena, tanggal dan waktu itu bersifat siklus. sehingga proses ini memberitahu model ANN bahwa suatu fitur bersifat siklis dan terbagi menjadi subbagian periodik yaitu tahun, bulan, dan hari. untuk setiap subbagian dibuat mfitur baru dengan mentransformasikan sinus dan kosinus dari fitur subbagian."
      ]
    },
    {
      "cell_type": "code",
      "metadata": {
        "colab": {
          "base_uri": "https://localhost:8080/"
        },
        "id": "79YZp66YOd-S",
        "outputId": "341498f7-99d0-4a14-eecd-ecd9f738fa51"
      },
      "source": [
        "df.info()"
      ],
      "execution_count": null,
      "outputs": [
        {
          "output_type": "stream",
          "text": [
            "<class 'pandas.core.frame.DataFrame'>\n",
            "RangeIndex: 145460 entries, 0 to 145459\n",
            "Data columns (total 30 columns):\n",
            " #   Column         Non-Null Count   Dtype         \n",
            "---  ------         --------------   -----         \n",
            " 0   Date           145460 non-null  datetime64[ns]\n",
            " 1   Location       145460 non-null  object        \n",
            " 2   MinTemp        143975 non-null  float64       \n",
            " 3   MaxTemp        144199 non-null  float64       \n",
            " 4   Rainfall       142199 non-null  float64       \n",
            " 5   Evaporation    82670 non-null   float64       \n",
            " 6   Sunshine       75625 non-null   float64       \n",
            " 7   WindGustDir    135134 non-null  object        \n",
            " 8   WindGustSpeed  135197 non-null  float64       \n",
            " 9   WindDir9am     134894 non-null  object        \n",
            " 10  WindDir3pm     141232 non-null  object        \n",
            " 11  WindSpeed9am   143693 non-null  float64       \n",
            " 12  WindSpeed3pm   142398 non-null  float64       \n",
            " 13  Humidity9am    142806 non-null  float64       \n",
            " 14  Humidity3pm    140953 non-null  float64       \n",
            " 15  Pressure9am    130395 non-null  float64       \n",
            " 16  Pressure3pm    130432 non-null  float64       \n",
            " 17  Cloud9am       89572 non-null   float64       \n",
            " 18  Cloud3pm       86102 non-null   float64       \n",
            " 19  Temp9am        143693 non-null  float64       \n",
            " 20  Temp3pm        141851 non-null  float64       \n",
            " 21  RainToday      142199 non-null  object        \n",
            " 22  RainTomorrow   142193 non-null  object        \n",
            " 23  year           145460 non-null  int64         \n",
            " 24  month          145460 non-null  int64         \n",
            " 25  month_sin      145460 non-null  float64       \n",
            " 26  month_cos      145460 non-null  float64       \n",
            " 27  day            145460 non-null  int64         \n",
            " 28  day_sin        145460 non-null  float64       \n",
            " 29  day_cos        145460 non-null  float64       \n",
            "dtypes: datetime64[ns](1), float64(20), int64(3), object(6)\n",
            "memory usage: 33.3+ MB\n"
          ],
          "name": "stdout"
        }
      ]
    },
    {
      "cell_type": "markdown",
      "metadata": {
        "id": "a5rVz81iQKjR"
      },
      "source": [
        "Tahap ini bertujuan untuk melihat info tipe data dan non-null dari data yang diinputkan. Dari hasil tersebut dapat diketahui bahwa terdapat missing data dan juga tipe data dengan tipe data object serta numerik"
      ]
    },
    {
      "cell_type": "code",
      "metadata": {
        "colab": {
          "base_uri": "https://localhost:8080/"
        },
        "id": "h91i-FC3Od-M",
        "outputId": "3e307159-7972-4e77-a377-504808c1568c"
      },
      "source": [
        "categorical = (df.dtypes == \"object\")\n",
        "object_cols = list(categorical[categorical].index)\n",
        "\n",
        "print(\"Categorical variables:\")\n",
        "print(object_cols)"
      ],
      "execution_count": null,
      "outputs": [
        {
          "output_type": "stream",
          "text": [
            "Categorical variables:\n",
            "['Location', 'WindGustDir', 'WindDir9am', 'WindDir3pm', 'RainToday', 'RainTomorrow']\n"
          ],
          "name": "stdout"
        }
      ]
    },
    {
      "cell_type": "markdown",
      "metadata": {
        "id": "bSbZA41ILJDz"
      },
      "source": [
        "Pada tahap ini dilakukan proses untuk memisahkan fitur mana saja yang memiliki tipe data object dari fitur secara keseluruhan."
      ]
    },
    {
      "cell_type": "code",
      "metadata": {
        "colab": {
          "base_uri": "https://localhost:8080/"
        },
        "id": "kvHEK6ZNOd-N",
        "outputId": "2cb58f43-869d-4948-8a77-87ad858426f8"
      },
      "source": [
        "for i in object_cols:\n",
        "    print(i, df[i].isnull().sum())"
      ],
      "execution_count": null,
      "outputs": [
        {
          "output_type": "stream",
          "text": [
            "Location 0\n",
            "WindGustDir 10326\n",
            "WindDir9am 10566\n",
            "WindDir3pm 4228\n",
            "RainToday 3261\n",
            "RainTomorrow 3267\n"
          ],
          "name": "stdout"
        }
      ]
    },
    {
      "cell_type": "markdown",
      "metadata": {
        "id": "tIzRfzwjNrcN"
      },
      "source": [
        "Tahap ini bertujuan untuk melihat berapa banyak data yang bernilai null pada fitur yang bertipe data object sehingga nantinya akan dilakukan proses pembersihan data sehingga data null tersebut sudah tidak ada."
      ]
    },
    {
      "cell_type": "code",
      "metadata": {
        "colab": {
          "base_uri": "https://localhost:8080/"
        },
        "id": "pCO_KdvqOd-O",
        "outputId": "7b2a1ae5-998b-490a-e516-addb3226b6b8"
      },
      "source": [
        "for i in object_cols:\n",
        "    df[i].fillna(df[i].mode()[0], inplace=True)\n",
        "for i in object_cols:\n",
        "    print(i, df[i].isnull().sum())"
      ],
      "execution_count": null,
      "outputs": [
        {
          "output_type": "stream",
          "text": [
            "Location 0\n",
            "WindGustDir 0\n",
            "WindDir9am 0\n",
            "WindDir3pm 0\n",
            "RainToday 0\n",
            "RainTomorrow 0\n"
          ],
          "name": "stdout"
        }
      ]
    },
    {
      "cell_type": "markdown",
      "metadata": {
        "id": "R6tc6SO0OawL"
      },
      "source": [
        "Tahap ini bertujuan untuk mengisi nilai bernilai null pada kolom dengan tipe data object, nilai bernilai null tersebut diisi atau digantikan oleh mode kolom dalam nilai. Dan hasilnya ditampilkan dan terbukti bahwa untuk fitur dengan tipe data object telah dibersihkan dari data null."
      ]
    },
    {
      "cell_type": "code",
      "metadata": {
        "colab": {
          "base_uri": "https://localhost:8080/"
        },
        "id": "CeMbX3iiOd-Q",
        "outputId": "af0e71a3-e598-4ebb-e204-a4a49d78db82"
      },
      "source": [
        "numeric = (df.dtypes == \"float64\")\n",
        "num_cols = list(numeric[numeric].index)\n",
        "\n",
        "print(\"Neumeric variables:\")\n",
        "print(num_cols)"
      ],
      "execution_count": null,
      "outputs": [
        {
          "output_type": "stream",
          "text": [
            "Neumeric variables:\n",
            "['MinTemp', 'MaxTemp', 'Rainfall', 'Evaporation', 'Sunshine', 'WindGustSpeed', 'WindSpeed9am', 'WindSpeed3pm', 'Humidity9am', 'Humidity3pm', 'Pressure9am', 'Pressure3pm', 'Cloud9am', 'Cloud3pm', 'Temp9am', 'Temp3pm', 'month_sin', 'month_cos', 'day_sin', 'day_cos']\n"
          ],
          "name": "stdout"
        }
      ]
    },
    {
      "cell_type": "markdown",
      "metadata": {
        "id": "9axyUwTnPYGD"
      },
      "source": [
        "Pada tahap ini dilakukan proses untuk memisahkan fitur mana saja yang memiliki tipe data float dari fitur secara keseluruhan."
      ]
    },
    {
      "cell_type": "code",
      "metadata": {
        "colab": {
          "base_uri": "https://localhost:8080/"
        },
        "id": "158yeX_qQCqO",
        "outputId": "87469328-ba56-4a51-ffdc-81946da132fa"
      },
      "source": [
        "for i in num_cols:\n",
        "    print(i, df[i].isnull().sum())"
      ],
      "execution_count": null,
      "outputs": [
        {
          "output_type": "stream",
          "text": [
            "MinTemp 1485\n",
            "MaxTemp 1261\n",
            "Rainfall 3261\n",
            "Evaporation 62790\n",
            "Sunshine 69835\n",
            "WindGustSpeed 10263\n",
            "WindSpeed9am 1767\n",
            "WindSpeed3pm 3062\n",
            "Humidity9am 2654\n",
            "Humidity3pm 4507\n",
            "Pressure9am 15065\n",
            "Pressure3pm 15028\n",
            "Cloud9am 55888\n",
            "Cloud3pm 59358\n",
            "Temp9am 1767\n",
            "Temp3pm 3609\n",
            "month_sin 0\n",
            "month_cos 0\n",
            "day_sin 0\n",
            "day_cos 0\n"
          ],
          "name": "stdout"
        }
      ]
    },
    {
      "cell_type": "markdown",
      "metadata": {
        "id": "1lrVc4lsRj2U"
      },
      "source": [
        "Tahap ini bertujuan untuk melihat berapa banyak data yang bernilai null pada fitur yang bertipe data float sehingga nantinya akan dilakukan proses pembersihan data sehingga data null tersebut sudah tidak ada."
      ]
    },
    {
      "cell_type": "code",
      "metadata": {
        "colab": {
          "base_uri": "https://localhost:8080/"
        },
        "id": "LUI5MDvsOd-R",
        "outputId": "31210552-8a47-4bd9-bfad-af0d15a68c23"
      },
      "source": [
        "for i in num_cols:\n",
        "    df[i].fillna(df[i].median(), inplace=True)\n",
        "for i in num_cols:\n",
        "    print(i, df[i].isnull().sum())"
      ],
      "execution_count": null,
      "outputs": [
        {
          "output_type": "stream",
          "text": [
            "MinTemp 0\n",
            "MaxTemp 0\n",
            "Rainfall 0\n",
            "Evaporation 0\n",
            "Sunshine 0\n",
            "WindGustSpeed 0\n",
            "WindSpeed9am 0\n",
            "WindSpeed3pm 0\n",
            "Humidity9am 0\n",
            "Humidity3pm 0\n",
            "Pressure9am 0\n",
            "Pressure3pm 0\n",
            "Cloud9am 0\n",
            "Cloud3pm 0\n",
            "Temp9am 0\n",
            "Temp3pm 0\n",
            "month_sin 0\n",
            "month_cos 0\n",
            "day_sin 0\n",
            "day_cos 0\n"
          ],
          "name": "stdout"
        }
      ]
    },
    {
      "cell_type": "markdown",
      "metadata": {
        "id": "uFuvRxeWPwc6"
      },
      "source": [
        "Tahap ini bertujuan untuk mengisi nilai bernilai null pada kolom dengan tipe data float, nilai bernilai null tersebut diisi atau digantikan oleh nilai median kolom. Dan hasilnya ditampilkan dan terbukti bahwa untuk fitur dengan tipe data float telah dibersihkan dari data null."
      ]
    },
    {
      "cell_type": "code",
      "metadata": {
        "colab": {
          "base_uri": "https://localhost:8080/",
          "height": 368
        },
        "id": "zu8O_GGAOd-T",
        "outputId": "fc9213a9-fa37-4159-bb2e-198ee8ab4334"
      },
      "source": [
        "df.describe()"
      ],
      "execution_count": null,
      "outputs": [
        {
          "output_type": "execute_result",
          "data": {
            "text/html": [
              "<div>\n",
              "<style scoped>\n",
              "    .dataframe tbody tr th:only-of-type {\n",
              "        vertical-align: middle;\n",
              "    }\n",
              "\n",
              "    .dataframe tbody tr th {\n",
              "        vertical-align: top;\n",
              "    }\n",
              "\n",
              "    .dataframe thead th {\n",
              "        text-align: right;\n",
              "    }\n",
              "</style>\n",
              "<table border=\"1\" class=\"dataframe\">\n",
              "  <thead>\n",
              "    <tr style=\"text-align: right;\">\n",
              "      <th></th>\n",
              "      <th>MinTemp</th>\n",
              "      <th>MaxTemp</th>\n",
              "      <th>Rainfall</th>\n",
              "      <th>Evaporation</th>\n",
              "      <th>Sunshine</th>\n",
              "      <th>WindGustSpeed</th>\n",
              "      <th>WindSpeed9am</th>\n",
              "      <th>WindSpeed3pm</th>\n",
              "      <th>Humidity9am</th>\n",
              "      <th>Humidity3pm</th>\n",
              "      <th>Pressure9am</th>\n",
              "      <th>Pressure3pm</th>\n",
              "      <th>Cloud9am</th>\n",
              "      <th>Cloud3pm</th>\n",
              "      <th>Temp9am</th>\n",
              "      <th>Temp3pm</th>\n",
              "      <th>year</th>\n",
              "      <th>month</th>\n",
              "      <th>month_sin</th>\n",
              "      <th>month_cos</th>\n",
              "      <th>day</th>\n",
              "      <th>day_sin</th>\n",
              "      <th>day_cos</th>\n",
              "    </tr>\n",
              "  </thead>\n",
              "  <tbody>\n",
              "    <tr>\n",
              "      <th>count</th>\n",
              "      <td>145460.000000</td>\n",
              "      <td>145460.000000</td>\n",
              "      <td>145460.000000</td>\n",
              "      <td>145460.000000</td>\n",
              "      <td>145460.000000</td>\n",
              "      <td>145460.000000</td>\n",
              "      <td>145460.000000</td>\n",
              "      <td>145460.000000</td>\n",
              "      <td>145460.000000</td>\n",
              "      <td>145460.000000</td>\n",
              "      <td>145460.000000</td>\n",
              "      <td>145460.000000</td>\n",
              "      <td>145460.000000</td>\n",
              "      <td>145460.000000</td>\n",
              "      <td>145460.000000</td>\n",
              "      <td>145460.000000</td>\n",
              "      <td>145460.000000</td>\n",
              "      <td>145460.000000</td>\n",
              "      <td>1.454600e+05</td>\n",
              "      <td>1.454600e+05</td>\n",
              "      <td>145460.000000</td>\n",
              "      <td>1.454600e+05</td>\n",
              "      <td>145460.000000</td>\n",
              "    </tr>\n",
              "    <tr>\n",
              "      <th>mean</th>\n",
              "      <td>12.192053</td>\n",
              "      <td>23.215962</td>\n",
              "      <td>2.307990</td>\n",
              "      <td>5.179779</td>\n",
              "      <td>7.989889</td>\n",
              "      <td>39.962189</td>\n",
              "      <td>14.030751</td>\n",
              "      <td>18.669758</td>\n",
              "      <td>68.901251</td>\n",
              "      <td>51.553396</td>\n",
              "      <td>1017.644768</td>\n",
              "      <td>1015.250115</td>\n",
              "      <td>4.659755</td>\n",
              "      <td>4.709913</td>\n",
              "      <td>16.987101</td>\n",
              "      <td>21.668916</td>\n",
              "      <td>2012.769751</td>\n",
              "      <td>6.399615</td>\n",
              "      <td>1.158393e-02</td>\n",
              "      <td>-1.635591e-02</td>\n",
              "      <td>15.712258</td>\n",
              "      <td>2.281439e-03</td>\n",
              "      <td>-0.019380</td>\n",
              "    </tr>\n",
              "    <tr>\n",
              "      <th>std</th>\n",
              "      <td>6.365780</td>\n",
              "      <td>7.088358</td>\n",
              "      <td>8.389771</td>\n",
              "      <td>3.178819</td>\n",
              "      <td>2.757790</td>\n",
              "      <td>13.120931</td>\n",
              "      <td>8.861796</td>\n",
              "      <td>8.716716</td>\n",
              "      <td>18.855360</td>\n",
              "      <td>20.471345</td>\n",
              "      <td>6.728484</td>\n",
              "      <td>6.663994</td>\n",
              "      <td>2.281490</td>\n",
              "      <td>2.106768</td>\n",
              "      <td>6.449299</td>\n",
              "      <td>6.850658</td>\n",
              "      <td>2.537684</td>\n",
              "      <td>3.427262</td>\n",
              "      <td>7.052668e-01</td>\n",
              "      <td>7.086635e-01</td>\n",
              "      <td>8.794789</td>\n",
              "      <td>7.134009e-01</td>\n",
              "      <td>0.700489</td>\n",
              "    </tr>\n",
              "    <tr>\n",
              "      <th>min</th>\n",
              "      <td>-8.500000</td>\n",
              "      <td>-4.800000</td>\n",
              "      <td>0.000000</td>\n",
              "      <td>0.000000</td>\n",
              "      <td>0.000000</td>\n",
              "      <td>6.000000</td>\n",
              "      <td>0.000000</td>\n",
              "      <td>0.000000</td>\n",
              "      <td>0.000000</td>\n",
              "      <td>0.000000</td>\n",
              "      <td>980.500000</td>\n",
              "      <td>977.100000</td>\n",
              "      <td>0.000000</td>\n",
              "      <td>0.000000</td>\n",
              "      <td>-7.200000</td>\n",
              "      <td>-5.400000</td>\n",
              "      <td>2007.000000</td>\n",
              "      <td>1.000000</td>\n",
              "      <td>-1.000000e+00</td>\n",
              "      <td>-1.000000e+00</td>\n",
              "      <td>1.000000</td>\n",
              "      <td>-9.987165e-01</td>\n",
              "      <td>-0.994869</td>\n",
              "    </tr>\n",
              "    <tr>\n",
              "      <th>25%</th>\n",
              "      <td>7.700000</td>\n",
              "      <td>18.000000</td>\n",
              "      <td>0.000000</td>\n",
              "      <td>4.000000</td>\n",
              "      <td>8.200000</td>\n",
              "      <td>31.000000</td>\n",
              "      <td>7.000000</td>\n",
              "      <td>13.000000</td>\n",
              "      <td>57.000000</td>\n",
              "      <td>37.000000</td>\n",
              "      <td>1013.500000</td>\n",
              "      <td>1011.100000</td>\n",
              "      <td>3.000000</td>\n",
              "      <td>4.000000</td>\n",
              "      <td>12.300000</td>\n",
              "      <td>16.700000</td>\n",
              "      <td>2011.000000</td>\n",
              "      <td>3.000000</td>\n",
              "      <td>-5.000000e-01</td>\n",
              "      <td>-8.660254e-01</td>\n",
              "      <td>8.000000</td>\n",
              "      <td>-7.247928e-01</td>\n",
              "      <td>-0.758758</td>\n",
              "    </tr>\n",
              "    <tr>\n",
              "      <th>50%</th>\n",
              "      <td>12.000000</td>\n",
              "      <td>22.600000</td>\n",
              "      <td>0.000000</td>\n",
              "      <td>4.800000</td>\n",
              "      <td>8.400000</td>\n",
              "      <td>39.000000</td>\n",
              "      <td>13.000000</td>\n",
              "      <td>19.000000</td>\n",
              "      <td>70.000000</td>\n",
              "      <td>52.000000</td>\n",
              "      <td>1017.600000</td>\n",
              "      <td>1015.200000</td>\n",
              "      <td>5.000000</td>\n",
              "      <td>5.000000</td>\n",
              "      <td>16.700000</td>\n",
              "      <td>21.100000</td>\n",
              "      <td>2013.000000</td>\n",
              "      <td>6.000000</td>\n",
              "      <td>1.224647e-16</td>\n",
              "      <td>-1.836970e-16</td>\n",
              "      <td>16.000000</td>\n",
              "      <td>-2.449294e-16</td>\n",
              "      <td>-0.050649</td>\n",
              "    </tr>\n",
              "    <tr>\n",
              "      <th>75%</th>\n",
              "      <td>16.800000</td>\n",
              "      <td>28.200000</td>\n",
              "      <td>0.600000</td>\n",
              "      <td>5.200000</td>\n",
              "      <td>8.700000</td>\n",
              "      <td>46.000000</td>\n",
              "      <td>19.000000</td>\n",
              "      <td>24.000000</td>\n",
              "      <td>83.000000</td>\n",
              "      <td>65.000000</td>\n",
              "      <td>1021.800000</td>\n",
              "      <td>1019.400000</td>\n",
              "      <td>6.000000</td>\n",
              "      <td>6.000000</td>\n",
              "      <td>21.500000</td>\n",
              "      <td>26.200000</td>\n",
              "      <td>2015.000000</td>\n",
              "      <td>9.000000</td>\n",
              "      <td>5.000000e-01</td>\n",
              "      <td>5.000000e-01</td>\n",
              "      <td>23.000000</td>\n",
              "      <td>7.247928e-01</td>\n",
              "      <td>0.688967</td>\n",
              "    </tr>\n",
              "    <tr>\n",
              "      <th>max</th>\n",
              "      <td>33.900000</td>\n",
              "      <td>48.100000</td>\n",
              "      <td>371.000000</td>\n",
              "      <td>145.000000</td>\n",
              "      <td>14.500000</td>\n",
              "      <td>135.000000</td>\n",
              "      <td>130.000000</td>\n",
              "      <td>87.000000</td>\n",
              "      <td>100.000000</td>\n",
              "      <td>100.000000</td>\n",
              "      <td>1041.000000</td>\n",
              "      <td>1039.600000</td>\n",
              "      <td>9.000000</td>\n",
              "      <td>9.000000</td>\n",
              "      <td>40.200000</td>\n",
              "      <td>46.700000</td>\n",
              "      <td>2017.000000</td>\n",
              "      <td>12.000000</td>\n",
              "      <td>1.000000e+00</td>\n",
              "      <td>1.000000e+00</td>\n",
              "      <td>31.000000</td>\n",
              "      <td>9.987165e-01</td>\n",
              "      <td>1.000000</td>\n",
              "    </tr>\n",
              "  </tbody>\n",
              "</table>\n",
              "</div>"
            ],
            "text/plain": [
              "             MinTemp        MaxTemp  ...       day_sin        day_cos\n",
              "count  145460.000000  145460.000000  ...  1.454600e+05  145460.000000\n",
              "mean       12.192053      23.215962  ...  2.281439e-03      -0.019380\n",
              "std         6.365780       7.088358  ...  7.134009e-01       0.700489\n",
              "min        -8.500000      -4.800000  ... -9.987165e-01      -0.994869\n",
              "25%         7.700000      18.000000  ... -7.247928e-01      -0.758758\n",
              "50%        12.000000      22.600000  ... -2.449294e-16      -0.050649\n",
              "75%        16.800000      28.200000  ...  7.247928e-01       0.688967\n",
              "max        33.900000      48.100000  ...  9.987165e-01       1.000000\n",
              "\n",
              "[8 rows x 23 columns]"
            ]
          },
          "metadata": {
            "tags": []
          },
          "execution_count": 11
        }
      ]
    },
    {
      "cell_type": "markdown",
      "metadata": {
        "id": "ER-z73QtRq8Q"
      },
      "source": [
        "Tahap ini bertujuan untuk melihat deskripsi data atau melihat distribusi data dari keseluruhan kolom mulai dari count, nilai mean, std, min, 25%, 50%,75%, dan max."
      ]
    },
    {
      "cell_type": "code",
      "metadata": {
        "id": "u0UiYNpGOd-U"
      },
      "source": [
        "import seaborn as sns"
      ],
      "execution_count": null,
      "outputs": []
    },
    {
      "cell_type": "code",
      "metadata": {
        "colab": {
          "base_uri": "https://localhost:8080/",
          "height": 356
        },
        "id": "KQN86eIIOd-U",
        "outputId": "0b5bac3f-57e4-43ee-d407-294d94826d9b"
      },
      "source": [
        "sns.heatmap(df.corr())"
      ],
      "execution_count": null,
      "outputs": [
        {
          "output_type": "execute_result",
          "data": {
            "text/plain": [
              "<matplotlib.axes._subplots.AxesSubplot at 0x7fd6c7c87710>"
            ]
          },
          "metadata": {
            "tags": []
          },
          "execution_count": 13
        },
        {
          "output_type": "display_data",
          "data": {
            "image/png": "[encoded data removed]",
            "text/plain": [
              "<Figure size 432x288 with 2 Axes>"
            ]
          },
          "metadata": {
            "tags": [],
            "needs_background": "light"
          }
        }
      ]
    },
    {
      "cell_type": "markdown",
      "metadata": {
        "id": "YmcxeMo4R7Vq"
      },
      "source": [
        "Tahap ini bertujuan untuk melihat hubungan antar fitur yang terkait erat. Fitur yang memiliki korelasi data mendekati 1 memiliki hubungan korelasi positif yang sangat kuat dan mendekati -1 korelasi negatif yang sangat kuat yang menandakan bahwa fitur tersebut mempengaruhi satu sama lain.  Untuk fitur yang memiliki korelasi data yang mendekati 0 maka fitur tersebut memiliki korelasi yang sangat lemah."
      ]
    },
    {
      "cell_type": "markdown",
      "metadata": {
        "id": "tmuovSJIOd-V"
      },
      "source": [
        "# Data Preprocessing"
      ]
    },
    {
      "cell_type": "markdown",
      "metadata": {
        "id": "2Fs6UmUHSSWa"
      },
      "source": [
        "Tahap ini merupakan tahap preprocessing data, artinya menyiapkan data sebelum diproses sehingga data tersebut telah siap untuk digunakan. Preprocessing data yang akan dilakukan saat ini adalah:\n",
        "Beri label kolom pengkodean pada data kategori,\n",
        "Penskalaan fitur,\n",
        "Mendeteksi outlier,\n",
        "Menghapus outlier berdasarkan analisis data"
      ]
    },
    {
      "cell_type": "code",
      "metadata": {
        "id": "yPbAwEILOd-W"
      },
      "source": [
        "from sklearn.preprocessing import LabelEncoder\n",
        "from sklearn import preprocessing\n",
        "from sklearn.preprocessing import StandardScaler"
      ],
      "execution_count": null,
      "outputs": []
    },
    {
      "cell_type": "code",
      "metadata": {
        "colab": {
          "base_uri": "https://localhost:8080/"
        },
        "id": "pS5TK2ZBOd-W",
        "outputId": "25f602d6-38cf-4a10-9a74-fbc0ec386724"
      },
      "source": [
        "label_encoder = LabelEncoder()\n",
        "for i in object_cols:\n",
        "    df[i] = label_encoder.fit_transform(df[i])\n",
        "\n",
        "df.info()"
      ],
      "execution_count": null,
      "outputs": [
        {
          "output_type": "stream",
          "text": [
            "<class 'pandas.core.frame.DataFrame'>\n",
            "RangeIndex: 145460 entries, 0 to 145459\n",
            "Data columns (total 30 columns):\n",
            " #   Column         Non-Null Count   Dtype         \n",
            "---  ------         --------------   -----         \n",
            " 0   Date           145460 non-null  datetime64[ns]\n",
            " 1   Location       145460 non-null  int64         \n",
            " 2   MinTemp        145460 non-null  float64       \n",
            " 3   MaxTemp        145460 non-null  float64       \n",
            " 4   Rainfall       145460 non-null  float64       \n",
            " 5   Evaporation    145460 non-null  float64       \n",
            " 6   Sunshine       145460 non-null  float64       \n",
            " 7   WindGustDir    145460 non-null  int64         \n",
            " 8   WindGustSpeed  145460 non-null  float64       \n",
            " 9   WindDir9am     145460 non-null  int64         \n",
            " 10  WindDir3pm     145460 non-null  int64         \n",
            " 11  WindSpeed9am   145460 non-null  float64       \n",
            " 12  WindSpeed3pm   145460 non-null  float64       \n",
            " 13  Humidity9am    145460 non-null  float64       \n",
            " 14  Humidity3pm    145460 non-null  float64       \n",
            " 15  Pressure9am    145460 non-null  float64       \n",
            " 16  Pressure3pm    145460 non-null  float64       \n",
            " 17  Cloud9am       145460 non-null  float64       \n",
            " 18  Cloud3pm       145460 non-null  float64       \n",
            " 19  Temp9am        145460 non-null  float64       \n",
            " 20  Temp3pm        145460 non-null  float64       \n",
            " 21  RainToday      145460 non-null  int64         \n",
            " 22  RainTomorrow   145460 non-null  int64         \n",
            " 23  year           145460 non-null  int64         \n",
            " 24  month          145460 non-null  int64         \n",
            " 25  month_sin      145460 non-null  float64       \n",
            " 26  month_cos      145460 non-null  float64       \n",
            " 27  day            145460 non-null  int64         \n",
            " 28  day_sin        145460 non-null  float64       \n",
            " 29  day_cos        145460 non-null  float64       \n",
            "dtypes: datetime64[ns](1), float64(20), int64(9)\n",
            "memory usage: 33.3 MB\n"
          ],
          "name": "stdout"
        }
      ]
    },
    {
      "cell_type": "markdown",
      "metadata": {
        "id": "FS35v4s6StPi"
      },
      "source": [
        "Tahap ini dilakukan proses label encoding dengan tujuan untuk mengonversi label kata menjadi angka. label encoding ini mengacu pada proses transformasi label kata menjadi bentuk numerik sehingga dapat dilihat sudah tidak ada lagi fitur yang memiliki tipe data object."
      ]
    },
    {
      "cell_type": "code",
      "metadata": {
        "colab": {
          "base_uri": "https://localhost:8080/",
          "height": 309
        },
        "id": "uy041mNTT7h2",
        "outputId": "1636cc4b-21a1-4a6e-b7f1-c15808446e11"
      },
      "source": [
        "df.head()"
      ],
      "execution_count": null,
      "outputs": [
        {
          "output_type": "execute_result",
          "data": {
            "text/html": [
              "<div>\n",
              "<style scoped>\n",
              "    .dataframe tbody tr th:only-of-type {\n",
              "        vertical-align: middle;\n",
              "    }\n",
              "\n",
              "    .dataframe tbody tr th {\n",
              "        vertical-align: top;\n",
              "    }\n",
              "\n",
              "    .dataframe thead th {\n",
              "        text-align: right;\n",
              "    }\n",
              "</style>\n",
              "<table border=\"1\" class=\"dataframe\">\n",
              "  <thead>\n",
              "    <tr style=\"text-align: right;\">\n",
              "      <th></th>\n",
              "      <th>Date</th>\n",
              "      <th>Location</th>\n",
              "      <th>MinTemp</th>\n",
              "      <th>MaxTemp</th>\n",
              "      <th>Rainfall</th>\n",
              "      <th>Evaporation</th>\n",
              "      <th>Sunshine</th>\n",
              "      <th>WindGustDir</th>\n",
              "      <th>WindGustSpeed</th>\n",
              "      <th>WindDir9am</th>\n",
              "      <th>WindDir3pm</th>\n",
              "      <th>WindSpeed9am</th>\n",
              "      <th>WindSpeed3pm</th>\n",
              "      <th>Humidity9am</th>\n",
              "      <th>Humidity3pm</th>\n",
              "      <th>Pressure9am</th>\n",
              "      <th>Pressure3pm</th>\n",
              "      <th>Cloud9am</th>\n",
              "      <th>Cloud3pm</th>\n",
              "      <th>Temp9am</th>\n",
              "      <th>Temp3pm</th>\n",
              "      <th>RainToday</th>\n",
              "      <th>RainTomorrow</th>\n",
              "      <th>year</th>\n",
              "      <th>month</th>\n",
              "      <th>month_sin</th>\n",
              "      <th>month_cos</th>\n",
              "      <th>day</th>\n",
              "      <th>day_sin</th>\n",
              "      <th>day_cos</th>\n",
              "    </tr>\n",
              "  </thead>\n",
              "  <tbody>\n",
              "    <tr>\n",
              "      <th>0</th>\n",
              "      <td>2008-12-01</td>\n",
              "      <td>2</td>\n",
              "      <td>13.4</td>\n",
              "      <td>22.9</td>\n",
              "      <td>0.6</td>\n",
              "      <td>4.8</td>\n",
              "      <td>8.4</td>\n",
              "      <td>13</td>\n",
              "      <td>44.0</td>\n",
              "      <td>13</td>\n",
              "      <td>14</td>\n",
              "      <td>20.0</td>\n",
              "      <td>24.0</td>\n",
              "      <td>71.0</td>\n",
              "      <td>22.0</td>\n",
              "      <td>1007.7</td>\n",
              "      <td>1007.1</td>\n",
              "      <td>8.0</td>\n",
              "      <td>5.0</td>\n",
              "      <td>16.9</td>\n",
              "      <td>21.8</td>\n",
              "      <td>0</td>\n",
              "      <td>0</td>\n",
              "      <td>2008</td>\n",
              "      <td>12</td>\n",
              "      <td>-2.449294e-16</td>\n",
              "      <td>1.0</td>\n",
              "      <td>1</td>\n",
              "      <td>0.201299</td>\n",
              "      <td>0.979530</td>\n",
              "    </tr>\n",
              "    <tr>\n",
              "      <th>1</th>\n",
              "      <td>2008-12-02</td>\n",
              "      <td>2</td>\n",
              "      <td>7.4</td>\n",
              "      <td>25.1</td>\n",
              "      <td>0.0</td>\n",
              "      <td>4.8</td>\n",
              "      <td>8.4</td>\n",
              "      <td>14</td>\n",
              "      <td>44.0</td>\n",
              "      <td>6</td>\n",
              "      <td>15</td>\n",
              "      <td>4.0</td>\n",
              "      <td>22.0</td>\n",
              "      <td>44.0</td>\n",
              "      <td>25.0</td>\n",
              "      <td>1010.6</td>\n",
              "      <td>1007.8</td>\n",
              "      <td>5.0</td>\n",
              "      <td>5.0</td>\n",
              "      <td>17.2</td>\n",
              "      <td>24.3</td>\n",
              "      <td>0</td>\n",
              "      <td>0</td>\n",
              "      <td>2008</td>\n",
              "      <td>12</td>\n",
              "      <td>-2.449294e-16</td>\n",
              "      <td>1.0</td>\n",
              "      <td>2</td>\n",
              "      <td>0.394356</td>\n",
              "      <td>0.918958</td>\n",
              "    </tr>\n",
              "    <tr>\n",
              "      <th>2</th>\n",
              "      <td>2008-12-03</td>\n",
              "      <td>2</td>\n",
              "      <td>12.9</td>\n",
              "      <td>25.7</td>\n",
              "      <td>0.0</td>\n",
              "      <td>4.8</td>\n",
              "      <td>8.4</td>\n",
              "      <td>15</td>\n",
              "      <td>46.0</td>\n",
              "      <td>13</td>\n",
              "      <td>15</td>\n",
              "      <td>19.0</td>\n",
              "      <td>26.0</td>\n",
              "      <td>38.0</td>\n",
              "      <td>30.0</td>\n",
              "      <td>1007.6</td>\n",
              "      <td>1008.7</td>\n",
              "      <td>5.0</td>\n",
              "      <td>2.0</td>\n",
              "      <td>21.0</td>\n",
              "      <td>23.2</td>\n",
              "      <td>0</td>\n",
              "      <td>0</td>\n",
              "      <td>2008</td>\n",
              "      <td>12</td>\n",
              "      <td>-2.449294e-16</td>\n",
              "      <td>1.0</td>\n",
              "      <td>3</td>\n",
              "      <td>0.571268</td>\n",
              "      <td>0.820763</td>\n",
              "    </tr>\n",
              "    <tr>\n",
              "      <th>3</th>\n",
              "      <td>2008-12-04</td>\n",
              "      <td>2</td>\n",
              "      <td>9.2</td>\n",
              "      <td>28.0</td>\n",
              "      <td>0.0</td>\n",
              "      <td>4.8</td>\n",
              "      <td>8.4</td>\n",
              "      <td>4</td>\n",
              "      <td>24.0</td>\n",
              "      <td>9</td>\n",
              "      <td>0</td>\n",
              "      <td>11.0</td>\n",
              "      <td>9.0</td>\n",
              "      <td>45.0</td>\n",
              "      <td>16.0</td>\n",
              "      <td>1017.6</td>\n",
              "      <td>1012.8</td>\n",
              "      <td>5.0</td>\n",
              "      <td>5.0</td>\n",
              "      <td>18.1</td>\n",
              "      <td>26.5</td>\n",
              "      <td>0</td>\n",
              "      <td>0</td>\n",
              "      <td>2008</td>\n",
              "      <td>12</td>\n",
              "      <td>-2.449294e-16</td>\n",
              "      <td>1.0</td>\n",
              "      <td>4</td>\n",
              "      <td>0.724793</td>\n",
              "      <td>0.688967</td>\n",
              "    </tr>\n",
              "    <tr>\n",
              "      <th>4</th>\n",
              "      <td>2008-12-05</td>\n",
              "      <td>2</td>\n",
              "      <td>17.5</td>\n",
              "      <td>32.3</td>\n",
              "      <td>1.0</td>\n",
              "      <td>4.8</td>\n",
              "      <td>8.4</td>\n",
              "      <td>13</td>\n",
              "      <td>41.0</td>\n",
              "      <td>1</td>\n",
              "      <td>7</td>\n",
              "      <td>7.0</td>\n",
              "      <td>20.0</td>\n",
              "      <td>82.0</td>\n",
              "      <td>33.0</td>\n",
              "      <td>1010.8</td>\n",
              "      <td>1006.0</td>\n",
              "      <td>7.0</td>\n",
              "      <td>8.0</td>\n",
              "      <td>17.8</td>\n",
              "      <td>29.7</td>\n",
              "      <td>0</td>\n",
              "      <td>0</td>\n",
              "      <td>2008</td>\n",
              "      <td>12</td>\n",
              "      <td>-2.449294e-16</td>\n",
              "      <td>1.0</td>\n",
              "      <td>5</td>\n",
              "      <td>0.848644</td>\n",
              "      <td>0.528964</td>\n",
              "    </tr>\n",
              "  </tbody>\n",
              "</table>\n",
              "</div>"
            ],
            "text/plain": [
              "        Date  Location  MinTemp  MaxTemp  ...  month_cos  day   day_sin   day_cos\n",
              "0 2008-12-01         2     13.4     22.9  ...        1.0    1  0.201299  0.979530\n",
              "1 2008-12-02         2      7.4     25.1  ...        1.0    2  0.394356  0.918958\n",
              "2 2008-12-03         2     12.9     25.7  ...        1.0    3  0.571268  0.820763\n",
              "3 2008-12-04         2      9.2     28.0  ...        1.0    4  0.724793  0.688967\n",
              "4 2008-12-05         2     17.5     32.3  ...        1.0    5  0.848644  0.528964\n",
              "\n",
              "[5 rows x 30 columns]"
            ]
          },
          "metadata": {
            "tags": []
          },
          "execution_count": 16
        }
      ]
    },
    {
      "cell_type": "markdown",
      "metadata": {
        "id": "ULdhdCMDUDvR"
      },
      "source": [
        "Tahap ini bertujuan untuk menampilkan data setelah dilakukan prose label encoding, dari data tersebut perlu dilakukan standardisasi data karena terdapat beberapa kolom yang memiliki skala berbeda."
      ]
    },
    {
      "cell_type": "code",
      "metadata": {
        "id": "zdo3GVejOd-X"
      },
      "source": [
        "features = df.drop(['RainTomorrow', 'Date','day', 'month'], axis=1)\n",
        "\n",
        "target = df['RainTomorrow']\n",
        "\n",
        "col_names = list(features.columns)\n",
        "s_scaler = preprocessing.StandardScaler()\n",
        "features = s_scaler.fit_transform(features)\n",
        "features = pd.DataFrame(features, columns=col_names)"
      ],
      "execution_count": null,
      "outputs": []
    },
    {
      "cell_type": "markdown",
      "metadata": {
        "id": "ipo_E5avUZIk"
      },
      "source": [
        "Tahap ini melakukan proses untuk memisahkan features kolom dan target. features kolom merupakan feature yang akan menjadikan acuan memprediksi suatu target. Tahap ini juga terdapat proses menghapus fitur seperti date, day, dan month hal ini dikarenakan sudah tidak diperlukan lagi fitur tersebut, karena fitur date telah terbagi menjadi year, day, dan month kemudian fitur day dan month telah didapatkan nilai kosinus dan sinus dari masing masing fitur. Dari fitur yang telah dianalisa tadi terdapat perbedaan skala antar fitur sehingga perlu dilakukan proses standarisasi sehingga fitur tersebut memiliki skala yang sama saat pembuatan model."
      ]
    },
    {
      "cell_type": "code",
      "metadata": {
        "id": "fK_LBRIeOd-Y"
      },
      "source": [
        "import matplotlib.pyplot as plt"
      ],
      "execution_count": null,
      "outputs": []
    },
    {
      "cell_type": "code",
      "metadata": {
        "colab": {
          "base_uri": "https://localhost:8080/",
          "height": 545
        },
        "id": "UhFhWvhqOd-Y",
        "outputId": "cbafd81a-0e15-49f9-efed-0a83fb396cc1"
      },
      "source": [
        "colours = [\"#D0DBEE\", \"#C2C4E2\", \"#EED4E5\", \"#D1E6DC\", \"#BDE2E2\"]\n",
        "plt.figure(figsize=(20,10))\n",
        "sns.boxenplot(data = features,palette = colours)\n",
        "plt.xticks(rotation=90)\n",
        "plt.show()"
      ],
      "execution_count": null,
      "outputs": [
        {
          "output_type": "display_data",
          "data": {
            "image/png": "[encoded data removed]",
            "text/plain": [
              "<Figure size 1440x720 with 1 Axes>"
            ]
          },
          "metadata": {
            "tags": [],
            "needs_background": "light"
          }
        }
      ]
    },
    {
      "cell_type": "markdown",
      "metadata": {
        "id": "7KmLwXN6YNjr"
      },
      "source": [
        "Tahap ini merupakan tahap proses melihat outlier pada data. Outlier merupakan suatu observasi pada kumpulan data yang berbeda polanya atau nilainya dari observasi-observasi lainya pada kumpulan data. Outlier berpengaruh pada pegambilan kesimpulan penelitian sehingga bisa menyebabkan pengujian diluar yang seharusnya. Sehingga outlier ini harus di atasi."
      ]
    },
    {
      "cell_type": "code",
      "metadata": {
        "colab": {
          "base_uri": "https://localhost:8080/"
        },
        "id": "IJIZnNuzOd-Z",
        "outputId": "49e3d325-44d1-4adf-e478-9ecd4c266e8f"
      },
      "source": [
        "features[\"RainTomorrow\"] = target\n",
        "\n",
        "features = features[(features[\"MinTemp\"]<2.3)&(features[\"MinTemp\"]>-2.3)]\n",
        "features = features[(features[\"MaxTemp\"]<2.3)&(features[\"MaxTemp\"]>-2)]\n",
        "features = features[(features[\"Rainfall\"]<4.5)]\n",
        "features = features[(features[\"Evaporation\"]<2.8)]\n",
        "features = features[(features[\"Sunshine\"]<2.1)]\n",
        "features = features[(features[\"WindGustSpeed\"]<4)&(features[\"WindGustSpeed\"]>-4)]\n",
        "features = features[(features[\"WindSpeed9am\"]<4)]\n",
        "features = features[(features[\"WindSpeed3pm\"]<2.5)]\n",
        "features = features[(features[\"Humidity9am\"]>-3)]\n",
        "features = features[(features[\"Humidity3pm\"]>-2.2)]\n",
        "features = features[(features[\"Pressure9am\"]< 2)&(features[\"Pressure9am\"]>-2.7)]\n",
        "features = features[(features[\"Pressure3pm\"]< 2)&(features[\"Pressure3pm\"]>-2.7)]\n",
        "features = features[(features[\"Cloud9am\"]<1.8)]\n",
        "features = features[(features[\"Cloud3pm\"]<2)]\n",
        "features = features[(features[\"Temp9am\"]<2.3)&(features[\"Temp9am\"]>-2)]\n",
        "features = features[(features[\"Temp3pm\"]<2.3)&(features[\"Temp3pm\"]>-2)]\n",
        "\n",
        "\n",
        "features.shape"
      ],
      "execution_count": null,
      "outputs": [
        {
          "output_type": "execute_result",
          "data": {
            "text/plain": [
              "(127536, 27)"
            ]
          },
          "metadata": {
            "tags": []
          },
          "execution_count": 20
        }
      ]
    },
    {
      "cell_type": "markdown",
      "metadata": {
        "id": "4TlnSLwrb7WC"
      },
      "source": [
        "Tahap ini merupakan tahap untuk menghapus atau menghilangkan outlier dengan cara menseleksi kumpulan data dan mengabaikan data ekstreme(outlier) seperti yang terlihat."
      ]
    },
    {
      "cell_type": "code",
      "metadata": {
        "colab": {
          "base_uri": "https://localhost:8080/",
          "height": 544
        },
        "id": "qxuZLwRfOd-a",
        "outputId": "318c2fb8-574a-4a16-f172-041249ad3cc9"
      },
      "source": [
        "plt.figure(figsize=(20,10))\n",
        "sns.boxenplot(data = features,palette = colours)\n",
        "plt.xticks(rotation=90)\n",
        "plt.show()"
      ],
      "execution_count": null,
      "outputs": [
        {
          "output_type": "display_data",
          "data": {
            "image/png": "[encoded data removed]",
            "text/plain": [
              "<Figure size 1440x720 with 1 Axes>"
            ]
          },
          "metadata": {
            "tags": [],
            "needs_background": "light"
          }
        }
      ]
    },
    {
      "cell_type": "markdown",
      "metadata": {
        "id": "X8jmqCW-dTGX"
      },
      "source": [
        "Tahap ini menampilkan hasil setelah proses menghapus outlier, dapat dilihat outlier sudah tidak ada dan menandakan bahwa data siap digunakan."
      ]
    },
    {
      "cell_type": "markdown",
      "metadata": {
        "id": "eaYiCP0TOd-b"
      },
      "source": [
        "# Model Building"
      ]
    },
    {
      "cell_type": "markdown",
      "metadata": {
        "id": "RXAc31vdeoPq"
      },
      "source": [
        "Tahap ini merupakan tahap memproses data yaitu membuat model ANN dan melakukan training data serta menampilkan akurasi dan hasilnya."
      ]
    },
    {
      "cell_type": "code",
      "metadata": {
        "id": "N00n8nUiOd-c"
      },
      "source": [
        "from keras.layers import Dense, Dropout\n",
        "from keras.models import Sequential\n",
        "from keras.optimizers import Adam\n",
        "from sklearn.model_selection import train_test_split"
      ],
      "execution_count": null,
      "outputs": []
    },
    {
      "cell_type": "code",
      "metadata": {
        "colab": {
          "base_uri": "https://localhost:8080/"
        },
        "id": "Ctf33h_kOd-c",
        "outputId": "5110ca5b-f754-4d75-8b9c-17dad18e8b16"
      },
      "source": [
        "X = features.drop([\"RainTomorrow\"], axis=1)\n",
        "y = features[\"RainTomorrow\"]\n",
        "\n",
        "# Splitting test and training sets\n",
        "X_train, X_test, y_train, y_test = train_test_split(X, y, test_size = 0.2, random_state = 42)\n",
        "\n",
        "X.shape"
      ],
      "execution_count": null,
      "outputs": [
        {
          "output_type": "execute_result",
          "data": {
            "text/plain": [
              "(127536, 26)"
            ]
          },
          "metadata": {
            "tags": []
          },
          "execution_count": 23
        }
      ]
    },
    {
      "cell_type": "markdown",
      "metadata": {
        "id": "PJs_cbINe1FS"
      },
      "source": [
        "Sebelum melakukan training data, pembuatan model, dan mendapatkan akurasinya, maka perlu dilakukan pembagian data untuk data train dan data testing baik dari data features maupun target. Proses pembagian data dilakukan dengan menggunakan library train test split dengan rasio perbandingan 80% data train dan 20% data test."
      ]
    },
    {
      "cell_type": "code",
      "metadata": {
        "id": "2zZDjMK6PK-3"
      },
      "source": [
        "import tensorflow as tf\n",
        "class myCallback(tf.keras.callbacks.Callback):\n",
        "  def on_epoch_end(self, epoch, logs={}):\n",
        "    if(logs.get('accuracy')>0.84):\n",
        "      print(\"\\nAkurasi model telah lebih dari 84%\")\n",
        "      self.model.stop_training = True\n",
        "callbacks = myCallback()"
      ],
      "execution_count": null,
      "outputs": []
    },
    {
      "cell_type": "markdown",
      "metadata": {
        "id": "TdmKh22Bf6zC"
      },
      "source": [
        "Fungsi ini merupakan fungsi callbacks dari library tensorflow, dimana fungsi ini memiliki tujuan untuk menghentikan proses pengujian pada akurasi tertentu sehingga proses pengujian tidak terlalu lama. Proses ini memperlihatkan bahwa ketika akurasi telah didapatkan lebih dari atau sama dengan 84% proses training akan berhenti"
      ]
    },
    {
      "cell_type": "code",
      "metadata": {
        "id": "gbPV6f3TPWZx"
      },
      "source": [
        "model = Sequential()\n",
        "\n",
        "# layers\n",
        "\n",
        "model.add(Dense(units = 32, kernel_initializer = 'uniform', activation = 'relu', input_dim = 26))\n",
        "model.add(Dense(units = 32, kernel_initializer = 'uniform', activation = 'relu'))\n",
        "model.add(Dense(units = 16, kernel_initializer = 'uniform', activation = 'relu'))\n",
        "model.add(Dropout(0.25))\n",
        "model.add(Dense(units = 8, kernel_initializer = 'uniform', activation = 'relu'))\n",
        "model.add(Dropout(0.5))\n",
        "model.add(Dense(units = 1, kernel_initializer = 'uniform', activation = 'sigmoid'))"
      ],
      "execution_count": null,
      "outputs": []
    },
    {
      "cell_type": "markdown",
      "metadata": {
        "id": "JqTL-uuEdg8d"
      },
      "source": []
    },
    {
      "cell_type": "markdown",
      "metadata": {
        "id": "zr_Ejp-jhJyP"
      },
      "source": [
        "Tahap ini merupakan pembuatan model ANN. Dimana model yang digunakan adalah model sequential. Kemudian membuat layers, dimana Model mengharapkan deretan data dengan 26 variabel (argumen input_dim = 26), Lapisan hidden pertama memiliki 32 node dan menggunakan fungsi aktivasi relu, Lapisan hidden kedua memiliki 32 node dan menggunakan fungsi aktivasi relu, Lapisan hidden ketiga memiliki 16 node dan menggunakan fungsi aktivasi relu. Sebelum masuk ke Lapisan ke empat dilakukan proses dropout sebesar 0.25 untuk mencegah terjadinya overfitting, seperti yang dijelaskan dalam makalah hinton digunakan pada masing-masing lapisan (padat) yang terhubung sepenuhnya sebelum output. Lapisan keempat memiliki 8 node dan fungsi aktivasi relu. Kemudian dilakukan kembali proses dropout sebesar 0.5. Dan lapisan terakhir atau lapisan output memiliki 1 node dengan fungsi aktivasi sigmoid."
      ]
    },
    {
      "cell_type": "code",
      "metadata": {
        "id": "ZirL7QrAPo0W"
      },
      "source": [
        "model.compile(optimizer=Adam(),\n",
        "              loss='binary_crossentropy',\n",
        "              metrics = ['accuracy'])"
      ],
      "execution_count": null,
      "outputs": []
    },
    {
      "cell_type": "markdown",
      "metadata": {
        "id": "-XnkpqDlmQyM"
      },
      "source": [
        "Tahap ini merupakan tahap compile keras model, dimana optimizer adam digunakan dengan tujuan mencapai hasil yang baik dengan cepat. Kemudian digunakan binary crossentropy digunakan karena target dari data tersebut merupakan bilangan biner yaitu 0 dan 1."
      ]
    },
    {
      "cell_type": "code",
      "metadata": {
        "colab": {
          "base_uri": "https://localhost:8080/"
        },
        "id": "hoMOsGLBP3Dd",
        "outputId": "b6c06f5d-62b9-4901-8488-9c8e89871364"
      },
      "source": [
        "history = model.fit(X_train, y_train, batch_size = 32, epochs = 150, callbacks = [callbacks], validation_split=0.2)"
      ],
      "execution_count": null,
      "outputs": [
        {
          "output_type": "stream",
          "text": [
            "Epoch 1/150\n",
            "2551/2551 [==============================] - 20s 2ms/step - loss: 0.4466 - accuracy: 0.8083 - val_loss: 0.3650 - val_accuracy: 0.8429\n",
            "Epoch 2/150\n",
            "2551/2551 [==============================] - 5s 2ms/step - loss: 0.3897 - accuracy: 0.8290 - val_loss: 0.3617 - val_accuracy: 0.8403\n",
            "Epoch 3/150\n",
            "2551/2551 [==============================] - 5s 2ms/step - loss: 0.3872 - accuracy: 0.8297 - val_loss: 0.3605 - val_accuracy: 0.8398\n",
            "Epoch 4/150\n",
            "2551/2551 [==============================] - 5s 2ms/step - loss: 0.3844 - accuracy: 0.8282 - val_loss: 0.3622 - val_accuracy: 0.8399\n",
            "Epoch 5/150\n",
            "2551/2551 [==============================] - 5s 2ms/step - loss: 0.3836 - accuracy: 0.8308 - val_loss: 0.3602 - val_accuracy: 0.8400\n",
            "Epoch 6/150\n",
            "2551/2551 [==============================] - 5s 2ms/step - loss: 0.3839 - accuracy: 0.8288 - val_loss: 0.3553 - val_accuracy: 0.8440\n",
            "Epoch 7/150\n",
            "2551/2551 [==============================] - 5s 2ms/step - loss: 0.3785 - accuracy: 0.8303 - val_loss: 0.3527 - val_accuracy: 0.8455\n",
            "Epoch 8/150\n",
            "2551/2551 [==============================] - 5s 2ms/step - loss: 0.3827 - accuracy: 0.8272 - val_loss: 0.3525 - val_accuracy: 0.8433\n",
            "Epoch 9/150\n",
            "2551/2551 [==============================] - 5s 2ms/step - loss: 0.3774 - accuracy: 0.8312 - val_loss: 0.3544 - val_accuracy: 0.8434\n",
            "Epoch 10/150\n",
            "2551/2551 [==============================] - 5s 2ms/step - loss: 0.3761 - accuracy: 0.8360 - val_loss: 0.3569 - val_accuracy: 0.8404\n",
            "Epoch 11/150\n",
            "2551/2551 [==============================] - 5s 2ms/step - loss: 0.3782 - accuracy: 0.8315 - val_loss: 0.3552 - val_accuracy: 0.8473\n",
            "Epoch 12/150\n",
            "2551/2551 [==============================] - 5s 2ms/step - loss: 0.3793 - accuracy: 0.8318 - val_loss: 0.3531 - val_accuracy: 0.8437\n",
            "Epoch 13/150\n",
            "2551/2551 [==============================] - 5s 2ms/step - loss: 0.3771 - accuracy: 0.8294 - val_loss: 0.3571 - val_accuracy: 0.8421\n",
            "Epoch 14/150\n",
            "2551/2551 [==============================] - 5s 2ms/step - loss: 0.3731 - accuracy: 0.8333 - val_loss: 0.3522 - val_accuracy: 0.8467\n",
            "Epoch 15/150\n",
            "2551/2551 [==============================] - 5s 2ms/step - loss: 0.3769 - accuracy: 0.8310 - val_loss: 0.3529 - val_accuracy: 0.8445\n",
            "Epoch 16/150\n",
            "2551/2551 [==============================] - 5s 2ms/step - loss: 0.3734 - accuracy: 0.8327 - val_loss: 0.3522 - val_accuracy: 0.8464\n",
            "Epoch 17/150\n",
            "2551/2551 [==============================] - 5s 2ms/step - loss: 0.3757 - accuracy: 0.8336 - val_loss: 0.3558 - val_accuracy: 0.8466\n",
            "Epoch 18/150\n",
            "2551/2551 [==============================] - 5s 2ms/step - loss: 0.3746 - accuracy: 0.8322 - val_loss: 0.3539 - val_accuracy: 0.8445\n",
            "Epoch 19/150\n",
            "2551/2551 [==============================] - 5s 2ms/step - loss: 0.3724 - accuracy: 0.8352 - val_loss: 0.3525 - val_accuracy: 0.8467\n",
            "Epoch 20/150\n",
            "2551/2551 [==============================] - 5s 2ms/step - loss: 0.3748 - accuracy: 0.8330 - val_loss: 0.3502 - val_accuracy: 0.8485\n",
            "Epoch 21/150\n",
            "2551/2551 [==============================] - 5s 2ms/step - loss: 0.3735 - accuracy: 0.8339 - val_loss: 0.3524 - val_accuracy: 0.8464\n",
            "Epoch 22/150\n",
            "2551/2551 [==============================] - 5s 2ms/step - loss: 0.3702 - accuracy: 0.8363 - val_loss: 0.3521 - val_accuracy: 0.8473\n",
            "Epoch 23/150\n",
            "2551/2551 [==============================] - 5s 2ms/step - loss: 0.3697 - accuracy: 0.8352 - val_loss: 0.3545 - val_accuracy: 0.8459\n",
            "Epoch 24/150\n",
            "2551/2551 [==============================] - 5s 2ms/step - loss: 0.3712 - accuracy: 0.8356 - val_loss: 0.3524 - val_accuracy: 0.8454\n",
            "Epoch 25/150\n",
            "2551/2551 [==============================] - 5s 2ms/step - loss: 0.3708 - accuracy: 0.8350 - val_loss: 0.3520 - val_accuracy: 0.8478\n",
            "Epoch 26/150\n",
            "2551/2551 [==============================] - 5s 2ms/step - loss: 0.3687 - accuracy: 0.8375 - val_loss: 0.3536 - val_accuracy: 0.8472\n",
            "Epoch 27/150\n",
            "2551/2551 [==============================] - 5s 2ms/step - loss: 0.3714 - accuracy: 0.8354 - val_loss: 0.3493 - val_accuracy: 0.8477\n",
            "Epoch 28/150\n",
            "2551/2551 [==============================] - 5s 2ms/step - loss: 0.3685 - accuracy: 0.8353 - val_loss: 0.3481 - val_accuracy: 0.8490\n",
            "Epoch 29/150\n",
            "2551/2551 [==============================] - 5s 2ms/step - loss: 0.3717 - accuracy: 0.8354 - val_loss: 0.3532 - val_accuracy: 0.8478\n",
            "Epoch 30/150\n",
            "2551/2551 [==============================] - 5s 2ms/step - loss: 0.3679 - accuracy: 0.8367 - val_loss: 0.3512 - val_accuracy: 0.8480\n",
            "Epoch 31/150\n",
            "2551/2551 [==============================] - 5s 2ms/step - loss: 0.3653 - accuracy: 0.8382 - val_loss: 0.3519 - val_accuracy: 0.8478\n",
            "Epoch 32/150\n",
            "2551/2551 [==============================] - 5s 2ms/step - loss: 0.3698 - accuracy: 0.8350 - val_loss: 0.3510 - val_accuracy: 0.8472\n",
            "Epoch 33/150\n",
            "2551/2551 [==============================] - 5s 2ms/step - loss: 0.3701 - accuracy: 0.8368 - val_loss: 0.3541 - val_accuracy: 0.8472\n",
            "Epoch 34/150\n",
            "2551/2551 [==============================] - 5s 2ms/step - loss: 0.3682 - accuracy: 0.8357 - val_loss: 0.3520 - val_accuracy: 0.8476\n",
            "Epoch 35/150\n",
            "2551/2551 [==============================] - 5s 2ms/step - loss: 0.3708 - accuracy: 0.8362 - val_loss: 0.3487 - val_accuracy: 0.8485\n",
            "Epoch 36/150\n",
            "2551/2551 [==============================] - 5s 2ms/step - loss: 0.3672 - accuracy: 0.8361 - val_loss: 0.3486 - val_accuracy: 0.8481\n",
            "Epoch 37/150\n",
            "2551/2551 [==============================] - 5s 2ms/step - loss: 0.3682 - accuracy: 0.8392 - val_loss: 0.3529 - val_accuracy: 0.8480\n",
            "Epoch 38/150\n",
            "2551/2551 [==============================] - 5s 2ms/step - loss: 0.3653 - accuracy: 0.8385 - val_loss: 0.3501 - val_accuracy: 0.8498\n",
            "Epoch 39/150\n",
            "2551/2551 [==============================] - 5s 2ms/step - loss: 0.3648 - accuracy: 0.8395 - val_loss: 0.3502 - val_accuracy: 0.8474\n",
            "Epoch 40/150\n",
            "2551/2551 [==============================] - 5s 2ms/step - loss: 0.3681 - accuracy: 0.8362 - val_loss: 0.3508 - val_accuracy: 0.8479\n",
            "Epoch 41/150\n",
            "2551/2551 [==============================] - 5s 2ms/step - loss: 0.3633 - accuracy: 0.8382 - val_loss: 0.3495 - val_accuracy: 0.8471\n",
            "Epoch 42/150\n",
            "2551/2551 [==============================] - 5s 2ms/step - loss: 0.3691 - accuracy: 0.8362 - val_loss: 0.3493 - val_accuracy: 0.8470\n",
            "Epoch 43/150\n",
            "2551/2551 [==============================] - 5s 2ms/step - loss: 0.3680 - accuracy: 0.8365 - val_loss: 0.3481 - val_accuracy: 0.8469\n",
            "Epoch 44/150\n",
            "2551/2551 [==============================] - 5s 2ms/step - loss: 0.3640 - accuracy: 0.8382 - val_loss: 0.3494 - val_accuracy: 0.8483\n",
            "Epoch 45/150\n",
            "2551/2551 [==============================] - 5s 2ms/step - loss: 0.3635 - accuracy: 0.8387 - val_loss: 0.3495 - val_accuracy: 0.8483\n",
            "Epoch 46/150\n",
            "2551/2551 [==============================] - 5s 2ms/step - loss: 0.3631 - accuracy: 0.8400 - val_loss: 0.3531 - val_accuracy: 0.8460\n",
            "Epoch 47/150\n",
            "2551/2551 [==============================] - 5s 2ms/step - loss: 0.3651 - accuracy: 0.8369 - val_loss: 0.3495 - val_accuracy: 0.8478\n",
            "Epoch 48/150\n",
            "2551/2551 [==============================] - 5s 2ms/step - loss: 0.3653 - accuracy: 0.8382 - val_loss: 0.3496 - val_accuracy: 0.8478\n",
            "Epoch 49/150\n",
            "2551/2551 [==============================] - 5s 2ms/step - loss: 0.3609 - accuracy: 0.8404 - val_loss: 0.3504 - val_accuracy: 0.8465\n",
            "Epoch 50/150\n",
            "2551/2551 [==============================] - 5s 2ms/step - loss: 0.3622 - accuracy: 0.8383 - val_loss: 0.3494 - val_accuracy: 0.8473\n",
            "Epoch 51/150\n",
            "2551/2551 [==============================] - 5s 2ms/step - loss: 0.3604 - accuracy: 0.8399 - val_loss: 0.3491 - val_accuracy: 0.8479\n",
            "Epoch 52/150\n",
            "2551/2551 [==============================] - 5s 2ms/step - loss: 0.3621 - accuracy: 0.8372 - val_loss: 0.3501 - val_accuracy: 0.8468\n",
            "Epoch 53/150\n",
            "2551/2551 [==============================] - 5s 2ms/step - loss: 0.3636 - accuracy: 0.8389 - val_loss: 0.3500 - val_accuracy: 0.8472\n",
            "Epoch 54/150\n",
            "2551/2551 [==============================] - 5s 2ms/step - loss: 0.3600 - accuracy: 0.8369 - val_loss: 0.3512 - val_accuracy: 0.8483\n",
            "Epoch 55/150\n",
            "2551/2551 [==============================] - 5s 2ms/step - loss: 0.3626 - accuracy: 0.8407 - val_loss: 0.3513 - val_accuracy: 0.8489\n",
            "Epoch 56/150\n",
            "2551/2551 [==============================] - 5s 2ms/step - loss: 0.3608 - accuracy: 0.8394 - val_loss: 0.3492 - val_accuracy: 0.8485\n",
            "Epoch 57/150\n",
            "2551/2551 [==============================] - 5s 2ms/step - loss: 0.3627 - accuracy: 0.8374 - val_loss: 0.3519 - val_accuracy: 0.8470\n",
            "Epoch 58/150\n",
            "2551/2551 [==============================] - 5s 2ms/step - loss: 0.3582 - accuracy: 0.8408 - val_loss: 0.3526 - val_accuracy: 0.8473\n",
            "Epoch 59/150\n",
            "2551/2551 [==============================] - 5s 2ms/step - loss: 0.3623 - accuracy: 0.8384 - val_loss: 0.3491 - val_accuracy: 0.8489\n",
            "Epoch 60/150\n",
            "2551/2551 [==============================] - 5s 2ms/step - loss: 0.3616 - accuracy: 0.8389 - val_loss: 0.3503 - val_accuracy: 0.8474\n",
            "Epoch 61/150\n",
            "2551/2551 [==============================] - 5s 2ms/step - loss: 0.3576 - accuracy: 0.8416 - val_loss: 0.3524 - val_accuracy: 0.8466\n",
            "Epoch 62/150\n",
            "2551/2551 [==============================] - 5s 2ms/step - loss: 0.3608 - accuracy: 0.8395 - val_loss: 0.3515 - val_accuracy: 0.8472\n",
            "Epoch 63/150\n",
            "2551/2551 [==============================] - 5s 2ms/step - loss: 0.3634 - accuracy: 0.8375 - val_loss: 0.3541 - val_accuracy: 0.8481\n",
            "Epoch 64/150\n",
            "2551/2551 [==============================] - 5s 2ms/step - loss: 0.3576 - accuracy: 0.8411 - val_loss: 0.3510 - val_accuracy: 0.8468\n",
            "Epoch 65/150\n",
            "2551/2551 [==============================] - 5s 2ms/step - loss: 0.3573 - accuracy: 0.8412 - val_loss: 0.3532 - val_accuracy: 0.8478\n",
            "Epoch 66/150\n",
            "2551/2551 [==============================] - 5s 2ms/step - loss: 0.3555 - accuracy: 0.8426 - val_loss: 0.3509 - val_accuracy: 0.8465\n",
            "\n",
            "Akurasi model telah lebih dari 84%\n"
          ],
          "name": "stdout"
        }
      ]
    },
    {
      "cell_type": "markdown",
      "metadata": {
        "id": "hysu61Ad0sGf"
      },
      "source": [
        "Tahap ini merupakan tahap training data dengan perintah fit, dimana parameter dari training data ini adalah features train dan target train, kemudian epochs yang berfungsi sebagai batas train yang dilakukan."
      ]
    },
    {
      "cell_type": "code",
      "metadata": {
        "colab": {
          "base_uri": "https://localhost:8080/",
          "height": 730
        },
        "id": "ucpfDnKRQHNp",
        "outputId": "14776759-5a7f-42da-e61b-1e7340a108ff"
      },
      "source": [
        "plt.figure(figsize=(12,12))\n",
        "plt.plot(history.history['accuracy'])\n",
        "plt.plot(history.history['val_accuracy'])\n",
        "plt.title('Model\\'s Accuracy')\n",
        "plt.ylabel('Accuracy')\n",
        "plt.xlabel('Epoch')\n",
        "plt.legend(['Train', 'Val'])\n",
        "plt.show()"
      ],
      "execution_count": null,
      "outputs": [
        {
          "output_type": "display_data",
          "data": {
            "image/png": "[encoded data removed]",
            "text/plain": [
              "<Figure size 864x864 with 1 Axes>"
            ]
          },
          "metadata": {
            "tags": [],
            "needs_background": "light"
          }
        }
      ]
    },
    {
      "cell_type": "markdown",
      "metadata": {
        "id": "9sIn6LiX0og_"
      },
      "source": [
        "Tahap ini menampilkan akurasi dan validasi akurasi dari hasil training data dalam bentuk grafik."
      ]
    },
    {
      "cell_type": "code",
      "metadata": {
        "colab": {
          "base_uri": "https://localhost:8080/",
          "height": 730
        },
        "id": "MohqbyJ1V5jh",
        "outputId": "ee0294f3-5c8b-4daf-fc48-c147d80232a0"
      },
      "source": [
        "plt.figure(figsize=(12,12))\n",
        "plt.plot(history.history['loss'])\n",
        "plt.plot(history.history['val_loss'])\n",
        "plt.title('Model\\'s Loss')\n",
        "plt.ylabel('loss')\n",
        "plt.xlabel('Epoch')\n",
        "plt.legend(['Train', 'Val'])\n",
        "plt.show()"
      ],
      "execution_count": null,
      "outputs": [
        {
          "output_type": "display_data",
          "data": {
            "image/png": "[encoded data removed]",
            "text/plain": [
              "<Figure size 864x864 with 1 Axes>"
            ]
          },
          "metadata": {
            "tags": [],
            "needs_background": "light"
          }
        }
      ]
    },
    {
      "cell_type": "markdown",
      "metadata": {
        "id": "Jvwzrxna1tBG"
      },
      "source": [
        "Tahap ini menampilkan loss dan validasi loss dari hasil training data dalam bentuk grafik."
      ]
    },
    {
      "cell_type": "code",
      "metadata": {
        "id": "OdyfaZEGV8SA"
      },
      "source": [
        "y_pred = model.predict(X_test)\n",
        "y_pred = (y_pred > 0.5)"
      ],
      "execution_count": null,
      "outputs": []
    },
    {
      "cell_type": "markdown",
      "metadata": {
        "id": "wpFBSe0N1xn4"
      },
      "source": [
        "Tahap ini berfungsi untuk melakukan prediksi terhadap data tes, dan yang melakukan prediksi adalah model yang telah ditraining sebelumnya."
      ]
    },
    {
      "cell_type": "code",
      "metadata": {
        "id": "cr-c6dpcWhzx"
      },
      "source": [
        "from sklearn.metrics import confusion_matrix"
      ],
      "execution_count": null,
      "outputs": []
    },
    {
      "cell_type": "code",
      "metadata": {
        "colab": {
          "base_uri": "https://localhost:8080/",
          "height": 500
        },
        "id": "bolK1UjdWSzL",
        "outputId": "28bbd737-52ef-4b43-a87a-cc7018bbfcc8"
      },
      "source": [
        "cmap1 = sns.diverging_palette(260,-10,s=50, l=75, n=5, as_cmap=True)\n",
        "plt.subplots(figsize=(12,8))\n",
        "cf_matrix = confusion_matrix(y_test, y_pred)\n",
        "sns.heatmap(cf_matrix/np.sum(cf_matrix), cmap = cmap1, annot = True, annot_kws = {'size':15})"
      ],
      "execution_count": null,
      "outputs": [
        {
          "output_type": "execute_result",
          "data": {
            "text/plain": [
              "<matplotlib.axes._subplots.AxesSubplot at 0x7fd6beb62f10>"
            ]
          },
          "metadata": {
            "tags": []
          },
          "execution_count": 32
        },
        {
          "output_type": "display_data",
          "data": {
            "image/png": "[encoded data removed]",
            "text/plain": [
              "<Figure size 864x576 with 2 Axes>"
            ]
          },
          "metadata": {
            "tags": [],
            "needs_background": "light"
          }
        }
      ]
    },
    {
      "cell_type": "markdown",
      "metadata": {
        "id": "nxlMr7J82pdT"
      },
      "source": [
        "Tahap ini merupakan tahap confusion matrix untuk melihat seberapa banyak data berhasil ditebak dengan benar dan salah."
      ]
    },
    {
      "cell_type": "code",
      "metadata": {
        "id": "a8USVw4FWWIx"
      },
      "source": [],
      "execution_count": null,
      "outputs": []
    }
  ]
}